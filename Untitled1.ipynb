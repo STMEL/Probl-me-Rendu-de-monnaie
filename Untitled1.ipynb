{
  "nbformat": 4,
  "nbformat_minor": 0,
  "metadata": {
    "colab": {
      "name": "Untitled1.ipynb",
      "provenance": [],
      "collapsed_sections": [],
      "authorship_tag": "ABX9TyP3kQZlNRla7dB0RTo2yWyc",
      "include_colab_link": true
    },
    "kernelspec": {
      "name": "python3",
      "display_name": "Python 3"
    },
    "language_info": {
      "name": "python"
    }
  },
  "cells": [
    {
      "cell_type": "markdown",
      "metadata": {
        "id": "view-in-github",
        "colab_type": "text"
      },
      "source": [
        "<a href=\"https://colab.research.google.com/github/STMEL/Probl-me-Rendu-de-monnaie/blob/main/Untitled1.ipynb\" target=\"_parent\"><img src=\"https://colab.research.google.com/assets/colab-badge.svg\" alt=\"Open In Colab\"/></a>"
      ]
    },
    {
      "cell_type": "code",
      "source": [
        "import time"
      ],
      "metadata": {
        "id": "8bxa1FvHcoX0"
      },
      "execution_count": null,
      "outputs": []
    },
    {
      "cell_type": "code",
      "source": [
        "#rendu de monnaie_vorace_système canonique\n",
        "def rendu(result,systeme_monnaie):\n",
        "        R=[]\n",
        "        for i in systeme_monnaie:\n",
        "            if result >= i :\n",
        "                nbr = result//i \n",
        "                print (nbr, ' de ', i) \n",
        "                result = result%i\n",
        "                R.append(i)\n",
        "        print(R)\n",
        "        \n",
        "        return R,somme\n",
        "\n",
        "\n",
        "#définissons le système de pièces à l'aide d'un tableau\n",
        "#  de valeurs des pièces classées par valeurs décroissantes\n",
        "c = [500,200,100,50,20,10,5,2,1]\n",
        "assert len(c) != 0, \"la liste ne doit pas etre vide\"\n",
        "s=0\n",
        "#print(c)\n",
        "#pour stocker les pièces à rendre, une liste python,initialement vide, peut etre utilisée\n",
        "list_pieces = []#liste des pièces à rendre\n",
        "achats = int(input('Entrer la somme des achats =',))\n",
        "montant_payé= int(input('Entrer la somme donnée : ',))\n",
        "\n",
        "if (montant_payé<achats):\n",
        " print(\"Vous n'avez pas assez d'argent \")\n",
        "\n",
        "elif (montant_payé==achats):\n",
        " print(\"Cest bon, Merci \\n\")\n",
        "\n",
        "elif (montant_payé > achats):\n",
        "    result = montant_payé - achats\n",
        "    print(\"le montant à rendre est :\", result)\n",
        "    print(\"il sera formé de : \\n\")\n",
        "    start_time = time.time()\n",
        "    Liste,s=rendu(result,c)\n",
        "    end_time=time.time()\n",
        "    print(\"temps d'éxécution==\",end_time-start_time)\n",
        "print(list)\n",
        "\n",
        "#Tests unitaires\n",
        "listeTest=[10, 2, 1]\n",
        "assert (Liste) == listeTest, \"la liste de pièces rendu est fausse\"\n"
      ],
      "metadata": {
        "colab": {
          "base_uri": "https://localhost:8080/"
        },
        "id": "OM_uAF7shVus",
        "outputId": "df8e4f52-d316-4084-aca1-4cfe0b9fb00d"
      },
      "execution_count": 26,
      "outputs": [
        {
          "output_type": "stream",
          "name": "stdout",
          "text": [
            "Entrer la somme des achats =12\n",
            "Entrer la somme donnée : 25\n",
            "le montant à rendre est : 13\n",
            "il sera formé de : \n",
            "\n",
            "1  de  10\n",
            "1  de  2\n",
            "1  de  1\n",
            "[10, 2, 1]\n",
            "temps d'éxécution== 0.000179290771484375\n",
            "<class 'list'>\n"
          ]
        }
      ]
    },
    {
      "cell_type": "code",
      "execution_count": 33,
      "metadata": {
        "colab": {
          "base_uri": "https://localhost:8080/"
        },
        "id": "WZ-JatCqcbq-",
        "outputId": "785af8f7-07e8-4017-da55-e0994e0e27c3"
      },
      "outputs": [
        {
          "output_type": "stream",
          "name": "stdout",
          "text": [
            "donnez le montants des achats: 12\n",
            "12\n",
            "combien donnez_vous à la caisse ? 25\n",
            "25\n",
            "la somme à rendre est :  13\n",
            "la montant à rendre est : 13\n",
            "il sera formé de : \n",
            "\n",
            "[10, 2, 1]\n",
            "temps d'éxécution== 9.5367431640625e-07\n",
            "<class 'list'>\n"
          ]
        }
      ],
      "source": [
        "#rendu de monnaie_dynamique_système canonique\n",
        "def rendu_monnaie( somme,c):\n",
        "    R=[]\n",
        "    while somme!= 0:\n",
        "     \n",
        "      for i in c:\n",
        "        if somme >= i :\n",
        "          \n",
        "          somme -= i\n",
        "        \n",
        "          R.append(i)\n",
        "\n",
        "      print(R)\n",
        "      return R,somme\n",
        "\n",
        "         \n",
        "\n",
        "c = [500,200,100,50,20,10,5,2,1]#système de pièce\n",
        "assert len(c) != 0, \"la liste ne doit pas etre vide\"\n",
        "s=0\n",
        "\n",
        "achats=int(input(\"donnez le montants des achats: \"))\n",
        "print(achats)\n",
        "argent=int (input(\"combien donnez_vous à la caisse ? \"))\n",
        "print(argent)\n",
        "somme = argent - achats\n",
        "print(\"la somme à rendre est : \", somme)\n",
        "\n",
        "if (argent<achats):\n",
        " print(\"Vous n'avez pas assez d'argent \")\n",
        "\n",
        "elif (argent==achats):\n",
        " print(\"Cest bon, Merci  \\n\")\n",
        "\n",
        "elif (argent > achats):\n",
        "    somme= argent - achats\n",
        "    print(\"la montant à rendre est :\", somme)\n",
        "    print(\"il sera formé de : \\n\")\n",
        "    start_time = time.time()\n",
        "    Liste,s=rendu_monnaie(somme,c)\n",
        "    start_time = time.time()\n",
        "    end_time=time.time()\n",
        "    print(\"temps d'éxécution==\",end_time-start_time)\n",
        "print(list)\n",
        "    \n",
        "#Tests unitaires\n",
        "listeTest=[10, 2, 1]\n",
        "assert (Liste) == listeTest, \"la liste de pièces rendu est fausse\"\n"
      ]
    },
    {
      "cell_type": "code",
      "source": [
        "#rendu de monnaie_vorace_système non canonique\n",
        "def rendu_monnaie( somme,c):\n",
        "  R=[]\n",
        "  while somme!= 0:\n",
        "     \n",
        "    for i in c:\n",
        "      if somme >= i :\n",
        "          \n",
        "        somme -= i\n",
        "        \n",
        "        R.append(i)\n",
        "\n",
        "    print(R)\n",
        "    return R,somme\n",
        "\n",
        "\n",
        "#définissons le système de pièces à l'aide d'un tableau\n",
        "#  de valeurs des pièces classées par valeurs décroissantes\n",
        "systeme_monnaie = [315,120,100,50,25,18,4,3,1]\n",
        "#print(systeme_monnaie)\n",
        "#pour stocker les pièces à rendre, une liste python,initialement vide, peut etre utilisée\n",
        "assert len(c) != 0, \"la liste ne doit pas etre vide\"\n",
        "s=0\n",
        "#print(c)\n",
        "#pour stocker les pièces à rendre, une liste python,initialement vide, peut etre utilisée\n",
        "list_pieces = []#liste des pièces à rendre\n",
        "achats = int(input('Entrer la somme des achats =',))\n",
        "montant_payé= int(input('Entrer la somme donnée : ',))\n",
        "\n",
        "if (montant_payé<achats):\n",
        " print(\"Vous n'avez pas assez d'argent \")\n",
        "\n",
        "elif (montant_payé==achats):\n",
        " print(\"Cest bon, Merci \\n\")\n",
        "\n",
        "elif (montant_payé > achats):\n",
        "    result = montant_payé - achats\n",
        "    print(\"le montant à rendre est :\", result)\n",
        "    print(\"il sera formé de : \\n\")\n",
        "    start_time = time.time()\n",
        "    Liste,s=rendu(result,c)\n",
        "    end_time=time.time()\n",
        "    print(\"temps d'éxécution==\",end_time-start_time)\n",
        "print(list)\n",
        "\n",
        "#Tests unitaires\n",
        "listeTest=[10, 2, 1]\n",
        "assert (Liste) == listeTest, \"la liste de pièces rendu est fausse\"\n"
      ],
      "metadata": {
        "colab": {
          "base_uri": "https://localhost:8080/"
        },
        "id": "wSGTjy35joK6",
        "outputId": "430b9280-750c-4547-8a8d-4bf0fafa5ab9"
      },
      "execution_count": 21,
      "outputs": [
        {
          "output_type": "stream",
          "name": "stdout",
          "text": [
            "Entrer la somme des achats =12\n",
            "Entrer la somme donnée : 25\n",
            "le montant à rendre est : 13\n",
            "il sera formé de : \n",
            "\n",
            "1  de  10\n",
            "1  de  2\n",
            "1  de  1\n",
            "[10, 2, 1]\n",
            "temps d'éxécution== 0.0011005401611328125\n",
            "<class 'list'>\n"
          ]
        }
      ]
    },
    {
      "cell_type": "code",
      "source": [
        "#rendu de monnaie_dynamique_système non canonique\n",
        "def rendu_monnaie( somme,c):\n",
        "    R=[]\n",
        "    while somme!= 0:\n",
        "     \n",
        "      for i in c:\n",
        "        if somme >= i :\n",
        "          \n",
        "          somme -= i\n",
        "        \n",
        "          R.append(i)\n",
        "\n",
        "      print(R)\n",
        "      return R,somme\n",
        "\n",
        "         \n",
        "\n",
        "c = [315,120,100,50,25,18,4,3,1]#système de pièce\n",
        "assert len(c) != 0, \"la liste ne doit pas etre vide\"\n",
        "s=0\n",
        "\n",
        "achats=int(input(\"donnez le montants des achats: \"))\n",
        "print(achats)\n",
        "argent=int (input(\"combien donnez_vous à la caisse ? \"))\n",
        "print(argent)\n",
        "somme = argent - achats\n",
        "print(\"la somme à rendre est : \", somme)\n",
        "\n",
        "if (argent<achats):\n",
        " print(\"Vous n'avez pas assez d'argent \")\n",
        "\n",
        "elif (argent==achats):\n",
        " print(\"Cest bon, Merci  \\n\")\n",
        "\n",
        "elif (argent > achats):\n",
        "    somme= argent - achats\n",
        "    print(\"le montant à rendre est :\", somme)\n",
        "    print(\"il sera formé de : \\n\")\n",
        "    start_time = time.time()\n",
        "    Liste,s=rendu_monnaie(somme,c)\n",
        "    start_time = time.time()\n",
        "    end_time=time.time()\n",
        "    print(\"temps d'éxécution==\",end_time-start_time)\n",
        "print(list)\n",
        "    \n",
        "#Tests unitaires\n",
        "listeTest=[4, 3, 1]\n",
        "assert (Liste) == listeTest, \"la liste de pièces rendu est fausse\""
      ],
      "metadata": {
        "colab": {
          "base_uri": "https://localhost:8080/"
        },
        "id": "byj8MNePujBH",
        "outputId": "4bee6e44-8e9c-41b3-c78e-80f74a5747d1"
      },
      "execution_count": 37,
      "outputs": [
        {
          "output_type": "stream",
          "name": "stdout",
          "text": [
            "donnez le montants des achats: 12\n",
            "12\n",
            "combien donnez_vous à la caisse ? 25\n",
            "25\n",
            "la somme à rendre est :  13\n",
            "le montant à rendre est : 13\n",
            "il sera formé de : \n",
            "\n",
            "[4, 3, 1]\n",
            "temps d'éxécution== 7.152557373046875e-07\n",
            "<class 'list'>\n"
          ]
        }
      ]
    }
  ]
}