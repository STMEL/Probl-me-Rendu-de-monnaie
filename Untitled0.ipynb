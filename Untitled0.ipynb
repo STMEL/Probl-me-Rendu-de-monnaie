{
  "nbformat": 4,
  "nbformat_minor": 0,
  "metadata": {
    "colab": {
      "name": "Untitled0.ipynb",
      "provenance": [],
      "authorship_tag": "ABX9TyMveyluYLdVoROPElkfV5Iv",
      "include_colab_link": true
    },
    "kernelspec": {
      "name": "python3",
      "display_name": "Python 3"
    },
    "language_info": {
      "name": "python"
    }
  },
  "cells": [
    {
      "cell_type": "markdown",
      "metadata": {
        "id": "view-in-github",
        "colab_type": "text"
      },
      "source": [
        "<a href=\"https://colab.research.google.com/github/STMEL/Probl-me-Rendu-de-monnaie/blob/main/Untitled0.ipynb\" target=\"_parent\"><img src=\"https://colab.research.google.com/assets/colab-badge.svg\" alt=\"Open In Colab\"/></a>"
      ]
    },
    {
      "cell_type": "code",
      "metadata": {
        "id": "biweNqtgzN1o"
      },
      "source": [
        "b=0.5"
      ],
      "execution_count": 1,
      "outputs": []
    },
    {
      "cell_type": "code",
      "metadata": {
        "colab": {
          "base_uri": "https://localhost:8080/"
        },
        "id": "NTW1zDYmzdd9",
        "outputId": "85761ad4-38a7-462b-c682-d32ece9d56d0"
      },
      "source": [
        "b"
      ],
      "execution_count": 2,
      "outputs": [
        {
          "output_type": "execute_result",
          "data": {
            "text/plain": [
              "0.5"
            ]
          },
          "metadata": {},
          "execution_count": 2
        }
      ]
    },
    {
      "cell_type": "code",
      "metadata": {
        "id": "TqRYno3VzgvW"
      },
      "source": [
        "a=5//3.2"
      ],
      "execution_count": 10,
      "outputs": []
    },
    {
      "cell_type": "code",
      "metadata": {
        "colab": {
          "base_uri": "https://localhost:8080/"
        },
        "id": "ACmbg0L40Tvy",
        "outputId": "7019b35f-83f1-4cbe-e4d4-2c5e3890d968"
      },
      "source": [
        "a"
      ],
      "execution_count": 11,
      "outputs": [
        {
          "output_type": "execute_result",
          "data": {
            "text/plain": [
              "1.0"
            ]
          },
          "metadata": {},
          "execution_count": 11
        }
      ]
    },
    {
      "cell_type": "code",
      "metadata": {
        "id": "_Njx_0S91ra4"
      },
      "source": [
        "while(True):\n",
        "\n",
        "\n",
        "  result=0\n",
        "  bill50=0\n",
        "  bill20=0\n",
        "  bill10=0\n",
        "  bill5=0\n",
        "  coin2=0\n",
        "  coin1=0\n",
        "  coin0_5=0\n",
        "  coin0_2=0\n",
        "  coin0_1=0\n",
        "  coin0_02=0\n",
        "  coin0_01=0\n",
        "     \n",
        "  purchases = float(input('Entrer la somme des achats =',))\n",
        "  amount_paid = float(input('Entrer la somme donnée : ',))\n",
        " \n",
        "\n",
        "  if (amount_paid<purchases):\n",
        "    print(\"Vous n'avez pas assez d'argent :( \")\n",
        "        \n",
        "  elif (amount_paid==purchases):\n",
        "    print(\"Cest bon, Merci :) \\n\")\n",
        "        \n",
        "  elif (amount_paid>purchases):\n",
        "\n",
        "        \n",
        "    result = amount_paid - purchases\n",
        "    \n",
        "    print(\"la montant à rendre est :\", result)\n",
        "    print(\"il sera formé de : \\n\")\n",
        "    \n",
        "    bill50=result//50\n",
        "    result=result%50\n",
        "\n",
        "    bill20=result//20\n",
        "    result=result%20\n",
        "    \n",
        "    bill10=result//10\n",
        "    result=result%10\n",
        "    \n",
        "    bill5=result//5\n",
        "    result=result%5\n",
        "    \n",
        "    coin2=result//2\n",
        "    result=result%2\n",
        "    \n",
        "    coin1=result//1\n",
        "    result=result%1\n",
        "    \n",
        "    #coin0.5=result//0.5\n",
        "    #result=result%0.5\n",
        "    \n",
        "    #coin0.2=result/0.2\n",
        "    #result=result%0.2\n",
        "    \n",
        "    #coin0.1=result/0.1\n",
        "    #result=result%0.1\n",
        "    \n",
        "    #coin0.02=result/0.02\n",
        "    #result=result%0.02\n",
        "    \n",
        "    #coin0.01=result/0.01\n",
        "    #result=result%0.01\n",
        "    \n",
        "    if (bill50>=1):\n",
        "      print(\"billet(s) de 50 euros \",bill50)\n",
        "        \n",
        "    if (bill20>=1):\n",
        "      print(\"billet(s) de 20 euros \",bill20)\n",
        "      \n",
        "    if (bill10>=1):\n",
        "      print(\"billet(s) de 10 euros \",bill10)\n",
        "      \n",
        "    if (bill5>=1):\n",
        "          print(\"billet(s) de 5  euros \",bill5)\n",
        "          \n",
        "    if (coin2>=1):\n",
        "      print(\"piece(s) de 2  euros \",coin2)\n",
        "      \n",
        "    if (coin1>=1):\n",
        "      print(\"piece(s) de 1  euros \",coin1)\n",
        "      \n",
        "      \n",
        "     #if (coin0.5>=1):\n",
        "     #print(\"piece(s) de 50 centimes \",coin0.5)\n",
        "      \n",
        "    #if (coin0.2>=1):\n",
        "     # print(\"piece(s) de 20 centimes \",coin0.2)\n",
        "      \n",
        "      #if (coin0.1>=1):\n",
        "      #print(\"piece(s) de 10 centimes \",coin0.1)\n",
        "      \n",
        "    #if (coin0.02>=1):\n",
        "     # print(\"piece(s) de 2 centimes \",coin0.02)\n",
        "      \n",
        "      # if (coin0.01>=1):\n",
        "      #print(\"piece(s) de 1 centimes \",coin0.01)\n",
        "      \n",
        "print(\"/////////////////////////////////////////////////////////////////////////////////////////////////////////////////\")"
      ],
      "execution_count": null,
      "outputs": []
    }
  ]
}